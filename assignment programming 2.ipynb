{
 "cells": [
  {
   "cell_type": "code",
   "execution_count": 2,
   "id": "8297d5f6",
   "metadata": {},
   "outputs": [
    {
     "name": "stdout",
     "output_type": "stream",
     "text": [
      "enter distance in km :\n",
      "9\n",
      "The distace in miles is: 5.589 miles\n"
     ]
    }
   ],
   "source": [
    "#q1\n",
    "print(\"enter distance in km :\")\n",
    "a = int(input())\n",
    "a = 0.621 * a\n",
    "print(\"The distace in miles is:\", a , \"miles\")"
   ]
  },
  {
   "cell_type": "code",
   "execution_count": 5,
   "id": "bcd054ae",
   "metadata": {},
   "outputs": [
    {
     "name": "stdout",
     "output_type": "stream",
     "text": [
      "enter the temperature in celcius:\n",
      "9\n",
      "the temperature in fahrenheit 48.2 F\n"
     ]
    }
   ],
   "source": [
    "#q2\n",
    "print(\"enter the temperature in celcius:\")\n",
    "c = int(input())\n",
    "f = 9/5 * c + 32\n",
    "print (\"the temperature in fahrenheit\", f, \"F\")"
   ]
  },
  {
   "cell_type": "code",
   "execution_count": 9,
   "id": "f540ce7f",
   "metadata": {},
   "outputs": [
    {
     "name": "stdout",
     "output_type": "stream",
     "text": [
      "enter the year:2009\n",
      "enter the month:9\n",
      "   September 2009\n",
      "Mo Tu We Th Fr Sa Su\n",
      "    1  2  3  4  5  6\n",
      " 7  8  9 10 11 12 13\n",
      "14 15 16 17 18 19 20\n",
      "21 22 23 24 25 26 27\n",
      "28 29 30\n",
      "\n"
     ]
    }
   ],
   "source": [
    "#q3\n",
    "import calendar as k\n",
    "y = int(input(\"enter the year:\"))\n",
    "m =  int(input(\"enter the month:\"))\n",
    "c = k.month(y,m)\n",
    "print(c)"
   ]
  },
  {
   "cell_type": "code",
   "execution_count": 14,
   "id": "0e1aa132",
   "metadata": {},
   "outputs": [
    {
     "name": "stdout",
     "output_type": "stream",
     "text": [
      "enter the value of a:9\n",
      "enter the value of b:9\n",
      "enter the value of c:8\n",
      "the values of quadratic equations are: (-9-14.38749456993816j) (-9+14.38749456993816j)\n"
     ]
    }
   ],
   "source": [
    "#q4\n",
    "a = int(input(\"enter the value of a:\"))\n",
    "b = int(input(\"enter the value of b:\"))\n",
    "c = int(input(\"enter the value of c:\"))\n",
    "d = (b*b) - 4*a*c\n",
    "x = - b - d**.5\n",
    "y = - b + d**.5\n",
    "print(\"the values of quadratic equations are:\" , x ,y)"
   ]
  },
  {
   "cell_type": "code",
   "execution_count": 15,
   "id": "96902835",
   "metadata": {},
   "outputs": [
    {
     "name": "stdout",
     "output_type": "stream",
     "text": [
      "enter the first number:5\n",
      "enter the second number:7\n",
      "the swapper numbers are: 7 5\n"
     ]
    }
   ],
   "source": [
    "#q5\n",
    "a = int(input(\"enter the first number:\"))\n",
    "b = int(input(\"enter the second number:\"))\n",
    "a = a + b\n",
    "b = a - b\n",
    "a = a - b\n",
    "print(\"the swapper numbers are:\", a ,b)"
   ]
  },
  {
   "cell_type": "code",
   "execution_count": null,
   "id": "a36c2f75",
   "metadata": {},
   "outputs": [],
   "source": []
  }
 ],
 "metadata": {
  "kernelspec": {
   "display_name": "Python 3 (ipykernel)",
   "language": "python",
   "name": "python3"
  },
  "language_info": {
   "codemirror_mode": {
    "name": "ipython",
    "version": 3
   },
   "file_extension": ".py",
   "mimetype": "text/x-python",
   "name": "python",
   "nbconvert_exporter": "python",
   "pygments_lexer": "ipython3",
   "version": "3.9.7"
  }
 },
 "nbformat": 4,
 "nbformat_minor": 5
}
